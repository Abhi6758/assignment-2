{
 "cells": [
  {
   "cell_type": "code",
   "execution_count": 1,
   "id": "8f47620a-fde7-4d19-82f7-c271b4873fcd",
   "metadata": {},
   "outputs": [],
   "source": [
    "a =\"sudh\""
   ]
  },
  {
   "cell_type": "code",
   "execution_count": 2,
   "id": "23ead0b8-7210-405a-84f0-046276da00e3",
   "metadata": {},
   "outputs": [],
   "source": [
    "b =\"pwskilss\""
   ]
  },
  {
   "cell_type": "code",
   "execution_count": 3,
   "id": "a4f1b68d-2b85-4bc1-953c-96d060eccc4f",
   "metadata": {},
   "outputs": [],
   "source": [
    "c = \"physcology\""
   ]
  },
  {
   "cell_type": "code",
   "execution_count": null,
   "id": "aab99ce1-df87-4c34-8afa-77eda106c819",
   "metadata": {},
   "outputs": [],
   "source": []
  }
 ],
 "metadata": {
  "kernelspec": {
   "display_name": "Python 3 (ipykernel)",
   "language": "python",
   "name": "python3"
  },
  "language_info": {
   "codemirror_mode": {
    "name": "ipython",
    "version": 3
   },
   "file_extension": ".py",
   "mimetype": "text/x-python",
   "name": "python",
   "nbconvert_exporter": "python",
   "pygments_lexer": "ipython3",
   "version": "3.10.8"
  }
 },
 "nbformat": 4,
 "nbformat_minor": 5
}
