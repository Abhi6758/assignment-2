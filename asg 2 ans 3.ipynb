{
 "cells": [
  {
   "cell_type": "markdown",
   "id": "a8efd007-1ae0-4a05-b5ff-51af0fd7318e",
   "metadata": {},
   "source": [
    "we can convert a string containing a numeric value to an integer or float using the int() and float() functions"
   ]
  },
  {
   "cell_type": "code",
   "execution_count": 1,
   "id": "d78d2057-4a02-4253-809e-59f97545fbaa",
   "metadata": {},
   "outputs": [],
   "source": [
    "a = \"42\"\n",
    "b = int(a)\n",
    "c = float(a)"
   ]
  },
  {
   "cell_type": "code",
   "execution_count": 3,
   "id": "9e9f4e3c-d1ef-4f3f-b939-98050dcc07dd",
   "metadata": {},
   "outputs": [
    {
     "data": {
      "text/plain": [
       "str"
      ]
     },
     "execution_count": 3,
     "metadata": {},
     "output_type": "execute_result"
    }
   ],
   "source": [
    "type(a)"
   ]
  },
  {
   "cell_type": "code",
   "execution_count": 4,
   "id": "4cc8639c-8a9a-430a-8a81-0a947e31f744",
   "metadata": {},
   "outputs": [
    {
     "data": {
      "text/plain": [
       "int"
      ]
     },
     "execution_count": 4,
     "metadata": {},
     "output_type": "execute_result"
    }
   ],
   "source": [
    "type(b)"
   ]
  },
  {
   "cell_type": "code",
   "execution_count": 5,
   "id": "0e82d52a-b914-4cba-90a6-5232801d8d26",
   "metadata": {},
   "outputs": [
    {
     "data": {
      "text/plain": [
       "float"
      ]
     },
     "execution_count": 5,
     "metadata": {},
     "output_type": "execute_result"
    }
   ],
   "source": [
    "type(c)"
   ]
  },
  {
   "cell_type": "code",
   "execution_count": 6,
   "id": "8c98d10b-24ba-4e04-b237-c96da979f3b8",
   "metadata": {},
   "outputs": [
    {
     "data": {
      "text/plain": [
       "float"
      ]
     },
     "execution_count": 6,
     "metadata": {},
     "output_type": "execute_result"
    }
   ],
   "source": [
    "type(a)\n",
    "type(b)\n",
    "type(c)"
   ]
  },
  {
   "cell_type": "code",
   "execution_count": null,
   "id": "8a441f68-34dc-4349-958c-811f43d227f9",
   "metadata": {},
   "outputs": [],
   "source": [
    " str_num = \"42\"\n",
    "int_num = int(str_num)\n",
    "float_num = float(str_num)\n"
   ]
  }
 ],
 "metadata": {
  "kernelspec": {
   "display_name": "Python 3 (ipykernel)",
   "language": "python",
   "name": "python3"
  },
  "language_info": {
   "codemirror_mode": {
    "name": "ipython",
    "version": 3
   },
   "file_extension": ".py",
   "mimetype": "text/x-python",
   "name": "python",
   "nbconvert_exporter": "python",
   "pygments_lexer": "ipython3",
   "version": "3.10.8"
  }
 },
 "nbformat": 4,
 "nbformat_minor": 5
}
