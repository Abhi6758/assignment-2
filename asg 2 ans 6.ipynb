{
 "cells": [
  {
   "cell_type": "markdown",
   "id": "9ff09994-0764-4be7-8ee1-009fb83bec43",
   "metadata": {},
   "source": [
    "In mathematics, a complex number is a number that comprises both a real part and an imaginary part. It is typically represented in the form \"a + bi\" where \"a\" is the real part \"b\" is the imaginary part and \"i\" is the imaginary unit"
   ]
  },
  {
   "cell_type": "code",
   "execution_count": 1,
   "id": "33f26e6a-8076-4d1c-b48f-895c073cfab5",
   "metadata": {},
   "outputs": [],
   "source": [
    "z = complex(3, 2)"
   ]
  },
  {
   "cell_type": "code",
   "execution_count": 2,
   "id": "7ab1186d-ab54-47f3-b335-8d2d15958a13",
   "metadata": {},
   "outputs": [
    {
     "data": {
      "text/plain": [
       "complex"
      ]
     },
     "execution_count": 2,
     "metadata": {},
     "output_type": "execute_result"
    }
   ],
   "source": [
    "type(z)"
   ]
  },
  {
   "cell_type": "code",
   "execution_count": 3,
   "id": "8a769cd8-74c8-4e48-8007-395c07accaf5",
   "metadata": {},
   "outputs": [],
   "source": [
    "z1 = 3+7j"
   ]
  },
  {
   "cell_type": "code",
   "execution_count": 4,
   "id": "aaa89a28-0bd7-4cae-a4fb-c68afcbbdf9a",
   "metadata": {},
   "outputs": [
    {
     "data": {
      "text/plain": [
       "complex"
      ]
     },
     "execution_count": 4,
     "metadata": {},
     "output_type": "execute_result"
    }
   ],
   "source": [
    "type(z1)"
   ]
  },
  {
   "cell_type": "code",
   "execution_count": null,
   "id": "f7d0fe15-d001-4af5-b95c-7ce8e908aa03",
   "metadata": {},
   "outputs": [],
   "source": []
  }
 ],
 "metadata": {
  "kernelspec": {
   "display_name": "Python 3 (ipykernel)",
   "language": "python",
   "name": "python3"
  },
  "language_info": {
   "codemirror_mode": {
    "name": "ipython",
    "version": 3
   },
   "file_extension": ".py",
   "mimetype": "text/x-python",
   "name": "python",
   "nbconvert_exporter": "python",
   "pygments_lexer": "ipython3",
   "version": "3.10.8"
  }
 },
 "nbformat": 4,
 "nbformat_minor": 5
}
