{
 "cells": [
  {
   "cell_type": "code",
   "execution_count": 5,
   "id": "a9bf498a-944b-4454-959d-7235068183ca",
   "metadata": {},
   "outputs": [
    {
     "name": "stdout",
     "output_type": "stream",
     "text": [
      "guys\n"
     ]
    }
   ],
   "source": [
    "string = \"Hello guys, welcome in our country \"\n",
    "substring = string[6:10]\n",
    "print(substring)\n"
   ]
  },
  {
   "cell_type": "code",
   "execution_count": 8,
   "id": "2dd80fd5-75f2-440b-9400-6e1812b62770",
   "metadata": {},
   "outputs": [
    {
     "name": "stdout",
     "output_type": "stream",
     "text": [
      "Hello \n"
     ]
    }
   ],
   "source": [
    "string = \"Hello guys, welcome in our country \"\n",
    "substring = string[0:6]\n",
    "print(substring)\n"
   ]
  },
  {
   "cell_type": "code",
   "execution_count": 9,
   "id": "fa9e1a54-43b9-4adf-9099-2ce4de46ca70",
   "metadata": {},
   "outputs": [
    {
     "name": "stdout",
     "output_type": "stream",
     "text": [
      " welcome\n"
     ]
    }
   ],
   "source": [
    "string = \"Hello guys, welcome in our country \"\n",
    "substring = string[11:19]\n",
    "print(substring)\n"
   ]
  }
 ],
 "metadata": {
  "kernelspec": {
   "display_name": "Python 3 (ipykernel)",
   "language": "python",
   "name": "python3"
  },
  "language_info": {
   "codemirror_mode": {
    "name": "ipython",
    "version": 3
   },
   "file_extension": ".py",
   "mimetype": "text/x-python",
   "name": "python",
   "nbconvert_exporter": "python",
   "pygments_lexer": "ipython3",
   "version": "3.10.8"
  }
 },
 "nbformat": 4,
 "nbformat_minor": 5
}
