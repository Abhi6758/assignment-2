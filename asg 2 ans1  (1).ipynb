{
 "cells": [
  {
   "cell_type": "markdown",
   "id": "62bc6d82-67a2-4e40-8444-0e68426c8005",
   "metadata": {},
   "source": [
    "code for comment"
   ]
  },
  {
   "cell_type": "code",
   "execution_count": 14,
   "id": "f4db3ce5-f154-4b1c-8577-195ecb74455e",
   "metadata": {},
   "outputs": [
    {
     "name": "stdout",
     "output_type": "stream",
     "text": [
      "my name is abhishek gupta\n"
     ]
    }
   ],
   "source": [
    "print(\"my name is abhishek gupta\")"
   ]
  },
  {
   "cell_type": "markdown",
   "id": "d188463f-d790-49f0-bf08-07048aecd639",
   "metadata": {},
   "source": [
    "There are two types of comments in pythan\n",
    "1. single line comments:- are used to add comments on a single line of code\n",
    "2. multiple line comments:-  you can use multi-line strings (docstrings) as a way to provide multi-line comments"
   ]
  },
  {
   "cell_type": "code",
   "execution_count": null,
   "id": "1ddc1f33-d8d2-4046-90c4-6dcea06a970c",
   "metadata": {},
   "outputs": [],
   "source": []
  }
 ],
 "metadata": {
  "kernelspec": {
   "display_name": "Python 3 (ipykernel)",
   "language": "python",
   "name": "python3"
  },
  "language_info": {
   "codemirror_mode": {
    "name": "ipython",
    "version": 3
   },
   "file_extension": ".py",
   "mimetype": "text/x-python",
   "name": "python",
   "nbconvert_exporter": "python",
   "pygments_lexer": "ipython3",
   "version": "3.10.8"
  }
 },
 "nbformat": 4,
 "nbformat_minor": 5
}
