{
 "cells": [
  {
   "cell_type": "markdown",
   "id": "97ab414b-e3bc-4b86-8a85-f5dbfdbac299",
   "metadata": {},
   "source": [
    "Variables in pythan are used to store and manage data and also Variables allow you to store data and manipulate it throughout your program."
   ]
  },
  {
   "cell_type": "code",
   "execution_count": 1,
   "id": "9f51af91-5980-4a63-bb20-a9eaadb48661",
   "metadata": {},
   "outputs": [],
   "source": [
    "# Variable declaration and assign\n",
    "a = 25  # Here, \"a\" is the variable and 25 is the value assigned to it\n",
    "b= \"sudh\"  # \"name\" is the variable and \"Alice\" is the value"
   ]
  },
  {
   "cell_type": "code",
   "execution_count": 2,
   "id": "e3d57076-f2de-4557-9179-399d20e4ff1d",
   "metadata": {},
   "outputs": [],
   "source": [
    "a = 25  # Initial assign\n",
    "a = 30  # Reassign with a new value"
   ]
  }
 ],
 "metadata": {
  "kernelspec": {
   "display_name": "Python 3 (ipykernel)",
   "language": "python",
   "name": "python3"
  },
  "language_info": {
   "codemirror_mode": {
    "name": "ipython",
    "version": 3
   },
   "file_extension": ".py",
   "mimetype": "text/x-python",
   "name": "python",
   "nbconvert_exporter": "python",
   "pygments_lexer": "ipython3",
   "version": "3.10.8"
  }
 },
 "nbformat": 4,
 "nbformat_minor": 5
}
